{
  "nbformat": 4,
  "nbformat_minor": 0,
  "metadata": {
    "accelerator": "GPU",
    "colab": {
      "name": "Music Classification.ipynb",
      "provenance": [],
      "collapsed_sections": [],
      "toc_visible": true,
      "authorship_tag": "ABX9TyNwpR5bNbGWpVWpOOyNTunV",
      "include_colab_link": true
    },
    "kernelspec": {
      "display_name": "Python 3",
      "name": "python3"
    },
    "language_info": {
      "name": "python"
    }
  },
  "cells": [
    {
      "cell_type": "markdown",
      "metadata": {
        "id": "view-in-github",
        "colab_type": "text"
      },
      "source": [
        "<a href=\"https://colab.research.google.com/github/shrestha-bikash/Music_Genre_Classification/blob/main/Music_Classification.ipynb\" target=\"_parent\"><img src=\"https://colab.research.google.com/assets/colab-badge.svg\" alt=\"Open In Colab\"/></a>"
      ]
    },
    {
      "cell_type": "markdown",
      "metadata": {
        "id": "OagiVmIeG1-f"
      },
      "source": [
        "## Prepare and Preprocess Dataset"
      ]
    },
    {
      "cell_type": "code",
      "metadata": {
        "colab": {
          "base_uri": "https://localhost:8080/"
        },
        "id": "64YgphYu706d",
        "outputId": "71b2416a-43cc-4c9a-e440-ac9149f8c1b8"
      },
      "source": [
        "# Download dataset\n",
        "\n",
        "! wget http://opihi.cs.uvic.ca/sound/genres.tar.gz"
      ],
      "execution_count": null,
      "outputs": [
        {
          "output_type": "stream",
          "text": [
            "--2021-04-01 19:40:29--  http://opihi.cs.uvic.ca/sound/genres.tar.gz\n",
            "Resolving opihi.cs.uvic.ca (opihi.cs.uvic.ca)... 142.104.68.135\n",
            "Connecting to opihi.cs.uvic.ca (opihi.cs.uvic.ca)|142.104.68.135|:80... connected.\n",
            "HTTP request sent, awaiting response... 200 OK\n",
            "Length: 1225571541 (1.1G) [application/x-gzip]\n",
            "Saving to: ‘genres.tar.gz’\n",
            "\n",
            "genres.tar.gz       100%[===================>]   1.14G  1.87MB/s    in 10m 42s \n",
            "\n",
            "2021-04-01 19:51:12 (1.82 MB/s) - ‘genres.tar.gz’ saved [1225571541/1225571541]\n",
            "\n"
          ],
          "name": "stdout"
        }
      ]
    },
    {
      "cell_type": "code",
      "metadata": {
        "id": "7uQOlhcO-kZU"
      },
      "source": [
        "! tar -xzf genres.tar.gz"
      ],
      "execution_count": null,
      "outputs": []
    },
    {
      "cell_type": "code",
      "metadata": {
        "id": "BNYe9HsX7tSb"
      },
      "source": [
        "import librosa, librosa.display\n",
        "import matplotlib.pyplot as plt\n",
        "import numpy as np\n",
        "import os\n",
        "import math\n",
        "import json"
      ],
      "execution_count": null,
      "outputs": []
    },
    {
      "cell_type": "code",
      "metadata": {
        "colab": {
          "base_uri": "https://localhost:8080/"
        },
        "id": "di3ghkTF-Vhl",
        "outputId": "6e22efab-2217-417a-b2ef-2b1e678afd86"
      },
      "source": [
        "npy_path = 'music_genre.json'\n",
        "SAMPLE_RATE = 22050\n",
        "TRACK_DURATION = 30 # measured in seconds\n",
        "SAMPLES_PER_TRACK = SAMPLE_RATE * TRACK_DURATION\n",
        "\n",
        "def save_mfcc(dataset_path, json_path, num_mfcc=13, n_fft=2048, hop_length=512, num_segments=5):\n",
        "    data = {\n",
        "        \"mapping\": [],\n",
        "        \"labels\": [],\n",
        "        \"mfcc\": []\n",
        "    }\n",
        "\n",
        "    samples_per_segment = int(SAMPLES_PER_TRACK/num_segments)\n",
        "    num_mfcc_per_segment = math.ceil(samples_per_segment/hop_length)\n",
        "\n",
        "    for i, (dirpath, dirnames, filenames) in enumerate(os.walk(dataset_path)):\n",
        "\n",
        "        if dirpath is not dataset_path:\n",
        "            mapping_label = dirpath.split('/')[-1]\n",
        "            data['mapping'].append(mapping_label)\n",
        "            print('For label:', mapping_label)\n",
        "\n",
        "            for f in filenames:\n",
        "                # load audio file\n",
        "                file_path = dirpath + '/' + f\n",
        "                signal, sr = librosa.load(file_path, sr=SAMPLE_RATE)\n",
        "\n",
        "                # process all segments of audio file\n",
        "                for d in range(num_segments):\n",
        "\n",
        "                    # calculate start and finish sample for current segment\n",
        "                    start = samples_per_segment * d\n",
        "                    finish = start + samples_per_segment\n",
        "\n",
        "                    # generate mfcc\n",
        "                    mfcc = librosa.feature.mfcc(signal[start:finish], sr=sr, n_mfcc=num_mfcc, n_fft=n_fft, hop_length=hop_length)\n",
        "                    mfcc = mfcc.T\n",
        "\n",
        "                    if len(mfcc) == num_mfcc_per_segment:\n",
        "                        data[\"mfcc\"].append(mfcc.tolist())\n",
        "                        data[\"labels\"].append(i-1)\n",
        "\n",
        "    # np.savez(npz_path, data)\n",
        "    with open(json_path, 'w') as f:\n",
        "        json.dump(data, f, indent=4)    \n",
        "\n",
        "\n",
        "save_mfcc('genres/', npy_path)"
      ],
      "execution_count": null,
      "outputs": [
        {
          "output_type": "stream",
          "text": [
            "For label: classical\n",
            "For label: reggae\n",
            "For label: pop\n",
            "For label: hiphop\n",
            "For label: blues\n",
            "For label: jazz\n",
            "For label: rock\n",
            "For label: disco\n",
            "For label: country\n",
            "For label: metal\n"
          ],
          "name": "stdout"
        }
      ]
    },
    {
      "cell_type": "code",
      "metadata": {
        "id": "xS1pn72XHAab"
      },
      "source": [
        "import numpy as np\n",
        "\n",
        "def get_data(path='music_genre.json'):\n",
        "    with open(path, 'r') as f:\n",
        "        data = json.load(f)\n",
        "    # print(data)\n",
        "    X = np.array(data[\"mfcc\"])\n",
        "    Y = np.array(data[\"labels\"])\n",
        "\n",
        "    return X, Y\n",
        "\n",
        "X, Y = get_data()"
      ],
      "execution_count": null,
      "outputs": []
    },
    {
      "cell_type": "code",
      "metadata": {
        "colab": {
          "base_uri": "https://localhost:8080/"
        },
        "id": "htHeblMxHnX3",
        "outputId": "3e069ccf-287c-43a4-ce44-3205cb7671a0"
      },
      "source": [
        "print(X.shape)\n",
        "print(len(Y))"
      ],
      "execution_count": null,
      "outputs": [
        {
          "output_type": "stream",
          "text": [
            "(4998, 259, 13)\n",
            "4998\n"
          ],
          "name": "stdout"
        }
      ]
    },
    {
      "cell_type": "code",
      "metadata": {
        "colab": {
          "base_uri": "https://localhost:8080/"
        },
        "id": "uy2ZH7TLYlD9",
        "outputId": "1833b797-a705-40d4-ea37-22131ffb86d1"
      },
      "source": [
        "from sklearn.model_selection import train_test_split\n",
        "\n",
        "x_train, x_test, y_train, y_test = train_test_split(X, Y, test_size=0.2)\n",
        "x_train, x_validation, y_train, y_validation = train_test_split(x_train, y_train, test_size=0.2)\n",
        "\n",
        "print(x_train.shape)\n",
        "print(x_validation.shape)\n",
        "print(x_test.shape)"
      ],
      "execution_count": null,
      "outputs": [
        {
          "output_type": "stream",
          "text": [
            "(3198, 259, 13)\n",
            "(800, 259, 13)\n",
            "(1000, 259, 13)\n"
          ],
          "name": "stdout"
        }
      ]
    },
    {
      "cell_type": "code",
      "metadata": {
        "colab": {
          "base_uri": "https://localhost:8080/"
        },
        "id": "_xOF3xtXayqp",
        "outputId": "90fc20be-cbbe-4683-c1b1-3190e73860be"
      },
      "source": [
        "x_train = x_train[..., np.newaxis]\n",
        "x_validation = x_validation[..., np.newaxis]\n",
        "x_test = x_test[..., np.newaxis]\n",
        "\n",
        "print(x_train.shape)\n",
        "print(x_validation.shape)\n",
        "print(x_test.shape)"
      ],
      "execution_count": null,
      "outputs": [
        {
          "output_type": "stream",
          "text": [
            "(3198, 259, 13, 1)\n",
            "(800, 259, 13, 1)\n",
            "(1000, 259, 13, 1)\n"
          ],
          "name": "stdout"
        }
      ]
    },
    {
      "cell_type": "markdown",
      "metadata": {
        "id": "wIdC5jdrZKTY"
      },
      "source": [
        "### Create Deep Learning Models"
      ]
    },
    {
      "cell_type": "code",
      "metadata": {
        "id": "bi76os95baZE"
      },
      "source": [
        "from tensorflow.keras.models import Sequential\n",
        "from tensorflow.python.keras.layers import Input, Convolution2D, Flatten, Dense, Activation, MaxPooling2D, add, Dropout, BatchNormalization, GlobalAveragePooling2D, GlobalMaxPool2D\n",
        "\n",
        "def cnn_model(input_shape):\n",
        "    model = Sequential()\n",
        "\n",
        "    model.add(BatchNormalization(input_shape=input_shape))\n",
        "    model.add(Convolution2D(32, 3, padding='same', activation=\"relu\"))\n",
        "    model.add(MaxPooling2D(pool_size=(2, 2), strides=(2,2), padding='same'))\n",
        "\n",
        "    model.add(BatchNormalization())\n",
        "    model.add(Convolution2D(32, 3, padding = 'same', activation=\"relu\"))\n",
        "    model.add(MaxPooling2D(pool_size=(2, 2), strides=(2,2), padding='same'))\n",
        "\n",
        "    model.add(BatchNormalization())\n",
        "    model.add(Convolution2D(32, 2, padding = 'same', activation=\"relu\"))\n",
        "    model.add(MaxPooling2D(pool_size=(2, 2), strides=(2,2), padding='same'))\n",
        "\n",
        "    model.add(Flatten())\n",
        "    model.add(Dense(64, activation='relu'))\n",
        "    model.add(Dropout(0.3))\n",
        "\n",
        "    model.add(Dense(10, activation='softmax'))\n",
        "\n",
        "    return model\n"
      ],
      "execution_count": null,
      "outputs": []
    },
    {
      "cell_type": "code",
      "metadata": {
        "colab": {
          "base_uri": "https://localhost:8080/"
        },
        "id": "vdTCp6l6hnDA",
        "outputId": "56ceecac-eae3-4b1b-ad77-c94e47c2f60d"
      },
      "source": [
        "(n, a, b, c) = x_train.shape\n",
        "input_shape = (a, b, c)\n",
        "\n",
        "model = cnn_model(input_shape)\n",
        "model.compile(loss='sparse_categorical_crossentropy', optimizer='adam', metrics=['accuracy'])\n",
        "\n",
        "model.summary()"
      ],
      "execution_count": null,
      "outputs": [
        {
          "output_type": "stream",
          "text": [
            "Model: \"sequential\"\n",
            "_________________________________________________________________\n",
            "Layer (type)                 Output Shape              Param #   \n",
            "=================================================================\n",
            "batch_normalization (BatchNo (None, 259, 13, 1)        4         \n",
            "_________________________________________________________________\n",
            "conv2d (Conv2D)              (None, 259, 13, 32)       320       \n",
            "_________________________________________________________________\n",
            "max_pooling2d (MaxPooling2D) (None, 130, 7, 32)        0         \n",
            "_________________________________________________________________\n",
            "batch_normalization_1 (Batch (None, 130, 7, 32)        128       \n",
            "_________________________________________________________________\n",
            "conv2d_1 (Conv2D)            (None, 130, 7, 32)        9248      \n",
            "_________________________________________________________________\n",
            "max_pooling2d_1 (MaxPooling2 (None, 65, 4, 32)         0         \n",
            "_________________________________________________________________\n",
            "batch_normalization_2 (Batch (None, 65, 4, 32)         128       \n",
            "_________________________________________________________________\n",
            "conv2d_2 (Conv2D)            (None, 65, 4, 32)         4128      \n",
            "_________________________________________________________________\n",
            "max_pooling2d_2 (MaxPooling2 (None, 33, 2, 32)         0         \n",
            "_________________________________________________________________\n",
            "flatten (Flatten)            (None, 2112)              0         \n",
            "_________________________________________________________________\n",
            "dense (Dense)                (None, 64)                135232    \n",
            "_________________________________________________________________\n",
            "dropout (Dropout)            (None, 64)                0         \n",
            "_________________________________________________________________\n",
            "dense_1 (Dense)              (None, 10)                650       \n",
            "=================================================================\n",
            "Total params: 149,838\n",
            "Trainable params: 149,708\n",
            "Non-trainable params: 130\n",
            "_________________________________________________________________\n"
          ],
          "name": "stdout"
        }
      ]
    },
    {
      "cell_type": "code",
      "metadata": {
        "colab": {
          "base_uri": "https://localhost:8080/"
        },
        "id": "pj5KgMFJi9Kn",
        "outputId": "d63c30d2-dc68-4367-8ac5-02cccee8c1ac"
      },
      "source": [
        "batch = 32\n",
        "epochs = 50\n",
        "\n",
        "history = model.fit(x_train, y_train, validation_data=(x_validation, y_validation), batch_size=batch, epochs=epochs)"
      ],
      "execution_count": null,
      "outputs": [
        {
          "output_type": "stream",
          "text": [
            "Epoch 1/50\n",
            "100/100 [==============================] - 34s 13ms/step - loss: 2.2834 - accuracy: 0.1892 - val_loss: 2.1635 - val_accuracy: 0.1813\n",
            "Epoch 2/50\n",
            "100/100 [==============================] - 1s 6ms/step - loss: 1.8002 - accuracy: 0.3317 - val_loss: 2.1865 - val_accuracy: 0.1625\n",
            "Epoch 3/50\n",
            "100/100 [==============================] - 1s 6ms/step - loss: 1.6294 - accuracy: 0.4018 - val_loss: 2.2266 - val_accuracy: 0.1562\n",
            "Epoch 4/50\n",
            "100/100 [==============================] - 1s 6ms/step - loss: 1.5359 - accuracy: 0.4199 - val_loss: 1.7827 - val_accuracy: 0.3088\n",
            "Epoch 5/50\n",
            "100/100 [==============================] - 1s 6ms/step - loss: 1.4349 - accuracy: 0.4539 - val_loss: 1.5797 - val_accuracy: 0.4112\n",
            "Epoch 6/50\n",
            "100/100 [==============================] - 1s 6ms/step - loss: 1.3174 - accuracy: 0.5190 - val_loss: 1.3507 - val_accuracy: 0.4963\n",
            "Epoch 7/50\n",
            "100/100 [==============================] - 1s 6ms/step - loss: 1.2791 - accuracy: 0.5288 - val_loss: 1.0824 - val_accuracy: 0.6275\n",
            "Epoch 8/50\n",
            "100/100 [==============================] - 1s 6ms/step - loss: 1.1957 - accuracy: 0.5648 - val_loss: 1.1008 - val_accuracy: 0.6200\n",
            "Epoch 9/50\n",
            "100/100 [==============================] - 1s 6ms/step - loss: 1.1179 - accuracy: 0.5915 - val_loss: 1.0167 - val_accuracy: 0.6325\n",
            "Epoch 10/50\n",
            "100/100 [==============================] - 1s 6ms/step - loss: 1.0755 - accuracy: 0.5947 - val_loss: 1.1411 - val_accuracy: 0.5913\n",
            "Epoch 11/50\n",
            "100/100 [==============================] - 1s 6ms/step - loss: 1.0155 - accuracy: 0.6295 - val_loss: 1.0318 - val_accuracy: 0.6187\n",
            "Epoch 12/50\n",
            "100/100 [==============================] - 1s 6ms/step - loss: 0.9725 - accuracy: 0.6397 - val_loss: 0.9874 - val_accuracy: 0.6575\n",
            "Epoch 13/50\n",
            "100/100 [==============================] - 1s 6ms/step - loss: 0.9508 - accuracy: 0.6494 - val_loss: 0.9981 - val_accuracy: 0.6687\n",
            "Epoch 14/50\n",
            "100/100 [==============================] - 1s 6ms/step - loss: 0.9043 - accuracy: 0.6671 - val_loss: 1.0411 - val_accuracy: 0.6288\n",
            "Epoch 15/50\n",
            "100/100 [==============================] - 1s 6ms/step - loss: 0.8620 - accuracy: 0.6770 - val_loss: 0.9395 - val_accuracy: 0.6762\n",
            "Epoch 16/50\n",
            "100/100 [==============================] - 1s 6ms/step - loss: 0.7979 - accuracy: 0.7017 - val_loss: 0.9760 - val_accuracy: 0.6550\n",
            "Epoch 17/50\n",
            "100/100 [==============================] - 1s 6ms/step - loss: 0.7562 - accuracy: 0.7153 - val_loss: 0.9797 - val_accuracy: 0.6662\n",
            "Epoch 18/50\n",
            "100/100 [==============================] - 1s 6ms/step - loss: 0.6971 - accuracy: 0.7289 - val_loss: 0.9077 - val_accuracy: 0.6888\n",
            "Epoch 19/50\n",
            "100/100 [==============================] - 1s 6ms/step - loss: 0.6951 - accuracy: 0.7454 - val_loss: 0.9140 - val_accuracy: 0.6888\n",
            "Epoch 20/50\n",
            "100/100 [==============================] - 1s 6ms/step - loss: 0.6724 - accuracy: 0.7541 - val_loss: 1.0412 - val_accuracy: 0.6625\n",
            "Epoch 21/50\n",
            "100/100 [==============================] - 1s 6ms/step - loss: 0.6619 - accuracy: 0.7584 - val_loss: 0.9114 - val_accuracy: 0.6975\n",
            "Epoch 22/50\n",
            "100/100 [==============================] - 1s 6ms/step - loss: 0.6178 - accuracy: 0.7695 - val_loss: 1.0498 - val_accuracy: 0.6538\n",
            "Epoch 23/50\n",
            "100/100 [==============================] - 1s 5ms/step - loss: 0.6127 - accuracy: 0.7800 - val_loss: 1.0181 - val_accuracy: 0.6625\n",
            "Epoch 24/50\n",
            "100/100 [==============================] - 1s 6ms/step - loss: 0.5598 - accuracy: 0.7925 - val_loss: 1.0922 - val_accuracy: 0.6650\n",
            "Epoch 25/50\n",
            "100/100 [==============================] - 1s 6ms/step - loss: 0.5406 - accuracy: 0.7934 - val_loss: 0.9806 - val_accuracy: 0.6825\n",
            "Epoch 26/50\n",
            "100/100 [==============================] - 1s 6ms/step - loss: 0.5148 - accuracy: 0.8046 - val_loss: 1.0850 - val_accuracy: 0.6875\n",
            "Epoch 27/50\n",
            "100/100 [==============================] - 1s 6ms/step - loss: 0.5521 - accuracy: 0.7772 - val_loss: 1.1158 - val_accuracy: 0.6675\n",
            "Epoch 28/50\n",
            "100/100 [==============================] - 1s 6ms/step - loss: 0.4909 - accuracy: 0.8204 - val_loss: 1.0020 - val_accuracy: 0.7200\n",
            "Epoch 29/50\n",
            "100/100 [==============================] - 1s 6ms/step - loss: 0.4785 - accuracy: 0.8125 - val_loss: 0.9875 - val_accuracy: 0.7025\n",
            "Epoch 30/50\n",
            "100/100 [==============================] - 1s 6ms/step - loss: 0.4326 - accuracy: 0.8385 - val_loss: 1.0954 - val_accuracy: 0.6687\n",
            "Epoch 31/50\n",
            "100/100 [==============================] - 1s 6ms/step - loss: 0.4577 - accuracy: 0.8268 - val_loss: 1.0525 - val_accuracy: 0.6862\n",
            "Epoch 32/50\n",
            "100/100 [==============================] - 1s 6ms/step - loss: 0.4441 - accuracy: 0.8276 - val_loss: 1.1470 - val_accuracy: 0.6850\n",
            "Epoch 33/50\n",
            "100/100 [==============================] - 1s 6ms/step - loss: 0.4175 - accuracy: 0.8465 - val_loss: 1.0811 - val_accuracy: 0.6963\n",
            "Epoch 34/50\n",
            "100/100 [==============================] - 1s 6ms/step - loss: 0.4346 - accuracy: 0.8292 - val_loss: 1.2203 - val_accuracy: 0.6700\n",
            "Epoch 35/50\n",
            "100/100 [==============================] - 1s 6ms/step - loss: 0.4021 - accuracy: 0.8438 - val_loss: 1.3417 - val_accuracy: 0.6413\n",
            "Epoch 36/50\n",
            "100/100 [==============================] - 1s 6ms/step - loss: 0.3836 - accuracy: 0.8581 - val_loss: 1.0873 - val_accuracy: 0.7200\n",
            "Epoch 37/50\n",
            "100/100 [==============================] - 1s 6ms/step - loss: 0.4134 - accuracy: 0.8456 - val_loss: 1.1702 - val_accuracy: 0.6837\n",
            "Epoch 38/50\n",
            "100/100 [==============================] - 1s 6ms/step - loss: 0.4120 - accuracy: 0.8459 - val_loss: 1.1299 - val_accuracy: 0.7038\n",
            "Epoch 39/50\n",
            "100/100 [==============================] - 1s 6ms/step - loss: 0.3746 - accuracy: 0.8608 - val_loss: 1.3315 - val_accuracy: 0.6812\n",
            "Epoch 40/50\n",
            "100/100 [==============================] - 1s 6ms/step - loss: 0.3574 - accuracy: 0.8609 - val_loss: 1.1280 - val_accuracy: 0.7050\n",
            "Epoch 41/50\n",
            "100/100 [==============================] - 1s 6ms/step - loss: 0.3322 - accuracy: 0.8761 - val_loss: 1.3699 - val_accuracy: 0.6800\n",
            "Epoch 42/50\n",
            "100/100 [==============================] - 1s 6ms/step - loss: 0.3604 - accuracy: 0.8620 - val_loss: 1.1843 - val_accuracy: 0.7050\n",
            "Epoch 43/50\n",
            "100/100 [==============================] - 1s 6ms/step - loss: 0.3458 - accuracy: 0.8649 - val_loss: 1.3122 - val_accuracy: 0.6750\n",
            "Epoch 44/50\n",
            "100/100 [==============================] - 1s 6ms/step - loss: 0.3554 - accuracy: 0.8625 - val_loss: 1.2328 - val_accuracy: 0.6950\n",
            "Epoch 45/50\n",
            "100/100 [==============================] - 1s 6ms/step - loss: 0.3408 - accuracy: 0.8776 - val_loss: 1.1233 - val_accuracy: 0.7100\n",
            "Epoch 46/50\n",
            "100/100 [==============================] - 1s 6ms/step - loss: 0.3140 - accuracy: 0.8864 - val_loss: 1.2177 - val_accuracy: 0.6950\n",
            "Epoch 47/50\n",
            "100/100 [==============================] - 1s 6ms/step - loss: 0.3075 - accuracy: 0.8827 - val_loss: 1.2352 - val_accuracy: 0.6938\n",
            "Epoch 48/50\n",
            "100/100 [==============================] - 1s 6ms/step - loss: 0.2674 - accuracy: 0.9021 - val_loss: 1.3859 - val_accuracy: 0.6825\n",
            "Epoch 49/50\n",
            "100/100 [==============================] - 1s 6ms/step - loss: 0.2876 - accuracy: 0.8895 - val_loss: 1.2262 - val_accuracy: 0.6938\n",
            "Epoch 50/50\n",
            "100/100 [==============================] - 1s 6ms/step - loss: 0.3224 - accuracy: 0.8792 - val_loss: 1.1480 - val_accuracy: 0.7063\n"
          ],
          "name": "stdout"
        }
      ]
    },
    {
      "cell_type": "code",
      "metadata": {
        "colab": {
          "base_uri": "https://localhost:8080/"
        },
        "id": "erAq80hTnFU-",
        "outputId": "621f15c1-87d9-484f-c5a6-34ee4eb5dbce"
      },
      "source": [
        "def predict_data(model, x, y):\n",
        "\n",
        "    # x = x[np.newaxis, ...]\n",
        "\n",
        "    prediction = model.predict(x)\n",
        "\n",
        "    predicted_class = np.argmax(prediction, axis=1)\n",
        "\n",
        "    print('Actual class:', y)\n",
        "    print('Predicted class:', predicted_class)\n",
        "\n",
        "x = x_test\n",
        "y = y_test\n",
        "\n",
        "predict_data(model, x, y)"
      ],
      "execution_count": null,
      "outputs": [
        {
          "output_type": "stream",
          "text": [
            "Actual class: [0 3 9 3 8 8 1 1 9 4 5 7 5 2 5 6 2 2 3 0 6 6 5 2 5 0 5 4 1 5 5 8 0 2 4 9 7\n",
            " 7 6 4 5 3 0 1 3 0 6 2 8 3 1 7 5 8 7 5 3 5 4 3 8 1 0 9 6 3 9 9 9 4 3 3 1 2\n",
            " 0 7 6 9 8 7 8 4 8 6 4 0 1 2 0 9 5 8 9 8 6 8 6 6 3 8 5 0 2 4 2 3 3 5 8 7 2\n",
            " 7 4 6 0 7 7 8 2 5 5 5 9 3 1 4 6 7 7 8 6 3 6 7 3 7 0 5 9 0 8 7 0 8 8 0 8 9\n",
            " 1 0 7 9 6 7 3 9 5 3 2 8 0 4 4 4 8 1 6 7 8 7 2 3 4 5 0 1 8 8 9 4 6 8 8 0 5\n",
            " 5 0 9 8 6 2 7 0 3 6 8 8 3 5 3 3 2 4 7 2 3 1 5 5 1 9 9 7 1 7 2 1 2 0 6 2 5\n",
            " 4 6 6 4 1 6 0 7 7 9 2 7 1 7 4 2 8 1 9 2 6 0 1 7 4 1 1 1 7 4 8 8 4 1 6 5 3\n",
            " 9 9 6 4 7 2 3 3 7 8 0 6 4 5 2 9 6 8 0 4 5 7 2 0 9 8 4 5 9 1 7 2 0 8 5 1 2\n",
            " 6 1 3 8 5 1 6 8 1 7 5 8 8 1 1 5 4 7 1 4 8 2 1 0 3 2 5 3 1 8 1 1 8 3 5 6 5\n",
            " 9 9 6 6 7 6 5 1 5 6 2 3 2 9 0 8 0 4 7 2 3 7 3 0 4 9 4 6 0 7 6 3 4 5 5 4 3\n",
            " 4 1 0 7 9 6 5 3 7 5 7 5 7 1 2 5 7 6 3 5 5 9 3 5 8 8 6 8 6 4 4 7 1 5 4 1 9\n",
            " 0 5 6 0 9 5 4 4 0 2 7 3 5 6 6 4 6 8 9 1 4 4 6 3 4 4 4 7 9 2 4 8 5 5 7 1 9\n",
            " 8 3 2 9 6 2 1 2 8 7 0 6 5 7 7 8 0 4 1 4 9 0 8 2 0 7 5 4 6 4 7 5 2 3 0 2 6\n",
            " 4 5 1 7 8 7 5 6 3 6 9 9 3 8 9 9 7 4 6 1 8 5 2 3 2 6 5 9 0 7 8 8 2 9 4 3 0\n",
            " 4 2 4 5 4 0 2 8 6 4 6 8 7 0 4 8 3 9 0 0 8 8 1 8 3 5 5 6 9 7 3 8 1 7 4 9 5\n",
            " 6 1 4 8 1 5 5 7 9 9 8 6 7 3 5 9 0 5 1 7 8 2 4 1 8 7 5 7 9 8 0 6 1 8 9 0 8\n",
            " 3 1 2 0 5 1 0 1 7 9 9 6 8 4 9 7 7 3 0 4 6 7 4 2 8 5 1 9 1 6 3 7 4 3 1 0 0\n",
            " 5 1 2 7 5 5 7 5 6 6 0 8 4 5 9 5 8 1 5 9 3 2 2 3 8 4 2 8 3 3 3 0 0 3 2 1 9\n",
            " 7 9 2 8 3 7 1 7 8 7 5 8 1 6 1 4 7 0 9 7 2 6 3 3 3 7 8 9 4 7 7 0 1 9 8 6 6\n",
            " 3 1 8 1 6 9 4 4 9 1 6 8 9 0 9 0 0 6 2 3 9 5 5 2 0 8 9 8 0 4 0 2 4 6 0 4 6\n",
            " 7 1 8 6 9 1 2 8 8 7 7 7 4 3 5 8 9 8 3 8 5 3 8 5 5 3 1 3 3 0 0 8 8 6 7 5 0\n",
            " 5 7 2 3 3 6 4 7 5 4 6 4 6 9 7 3 9 4 5 1 2 9 3 9 5 4 6 7 6 2 7 0 6 1 2 3 8\n",
            " 7 5 6 3 5 1 3 5 1 2 1 3 1 1 4 7 1 6 4 0 6 5 1 1 4 6 2 5 5 0 6 6 5 7 0 1 9\n",
            " 1 9 1 6 3 2 9 9 2 9 6 8 5 9 7 2 1 1 5 8 6 9 6 4 4 2 9 9 0 0 9 3 0 9 8 9 1\n",
            " 2 9 9 4 6 8 4 0 8 3 3 0 2 3 0 6 3 8 1 3 8 3 1 3 9 9 0 8 5 9 8 1 3 9 2 2 2\n",
            " 3 3 9 5 2 6 6 3 4 0 7 5 6 7 0 1 5 0 1 5 9 9 8 7 6 3 7 0 1 4 0 2 9 9 6 2 5\n",
            " 8 8 5 8 6 6 9 4 2 1 7 1 6 2 3 5 0 8 7 4 3 4 8 0 3 5 3 4 0 0 7 8 0 3 4 7 8\n",
            " 6]\n",
            "Predicted class: [0 3 6 3 8 8 0 8 9 4 5 7 5 2 5 6 8 2 9 0 9 6 5 2 5 2 5 4 1 5 5 4 0 2 6 9 6\n",
            " 7 7 4 5 9 0 7 3 3 8 2 8 3 7 1 5 4 2 5 3 5 4 3 5 7 0 6 6 3 4 9 6 8 3 3 3 2\n",
            " 0 3 6 9 6 6 6 4 5 6 6 0 2 1 5 9 5 8 9 4 7 6 4 6 1 6 5 0 1 8 2 3 3 5 8 7 2\n",
            " 7 4 6 0 7 2 8 2 4 5 0 9 3 7 5 4 7 7 5 9 3 6 7 3 8 0 5 9 0 8 7 0 5 8 0 8 9\n",
            " 1 0 7 9 6 7 3 6 5 3 8 8 0 9 4 4 5 1 4 9 4 1 2 3 6 5 0 1 5 8 9 4 6 8 8 0 5\n",
            " 5 0 9 8 6 2 1 0 6 9 5 8 1 0 3 3 2 4 6 2 3 1 6 5 1 9 9 2 1 6 2 1 2 0 6 2 5\n",
            " 4 6 6 4 1 6 0 6 7 9 6 7 1 2 4 6 0 1 3 2 6 0 1 7 4 5 1 4 2 8 8 6 4 1 8 0 4\n",
            " 9 9 6 1 6 7 3 7 2 6 0 6 4 5 3 9 6 5 0 4 5 7 2 0 9 4 4 0 3 1 7 2 0 6 0 6 2\n",
            " 6 6 2 6 5 5 6 8 1 7 5 8 0 2 1 5 4 6 3 4 8 1 1 0 6 2 5 1 2 6 1 6 8 3 5 8 5\n",
            " 9 9 6 6 7 6 5 7 5 1 2 3 2 9 0 8 0 4 7 8 1 6 2 0 4 9 9 9 0 7 6 3 4 5 5 4 3\n",
            " 4 4 0 3 4 6 5 3 7 6 7 5 7 6 2 5 7 8 3 5 5 9 3 0 8 6 6 2 6 4 4 7 3 5 4 3 9\n",
            " 0 5 5 5 9 5 4 0 0 2 7 3 5 6 7 3 1 5 9 1 4 4 5 3 4 4 4 7 9 2 4 6 5 5 7 1 9\n",
            " 8 1 2 9 8 3 6 2 1 6 0 6 5 3 1 6 0 4 1 4 9 0 8 2 0 4 5 4 8 5 7 5 2 3 0 2 6\n",
            " 4 5 3 7 8 7 5 6 3 6 9 9 1 8 9 9 7 4 6 3 8 5 2 2 2 6 5 6 0 7 6 8 2 9 4 3 0\n",
            " 4 2 4 5 4 0 2 6 6 4 6 6 7 0 4 8 1 9 0 0 8 8 4 6 7 5 5 4 9 2 3 6 1 9 4 9 5\n",
            " 9 4 6 5 2 5 0 1 9 9 8 6 3 7 5 9 0 0 6 7 8 3 4 3 8 7 8 7 9 5 0 2 3 8 9 0 5\n",
            " 3 1 2 0 5 6 0 1 2 9 9 2 8 4 9 6 2 3 4 4 6 7 4 2 8 5 3 9 3 6 3 4 4 3 3 0 0\n",
            " 5 9 2 8 5 5 7 4 6 6 0 8 4 0 9 5 8 1 5 9 1 2 2 3 8 4 2 6 3 3 3 0 0 3 2 1 9\n",
            " 1 9 2 8 4 7 1 7 9 7 5 8 3 4 1 4 4 0 4 7 2 6 3 3 1 4 4 9 6 1 7 0 7 9 5 6 6\n",
            " 2 1 5 1 6 9 4 4 6 1 6 4 9 0 6 0 0 6 2 3 6 5 8 2 0 8 9 8 0 4 0 2 4 1 0 4 7\n",
            " 7 1 5 2 9 1 2 8 4 9 7 6 5 3 5 4 9 8 1 8 5 6 8 5 5 3 1 3 3 5 0 6 0 6 7 5 0\n",
            " 5 7 2 3 3 6 4 3 2 8 6 4 6 4 6 7 6 4 5 1 2 9 1 9 5 4 8 7 8 2 6 0 5 1 2 1 8\n",
            " 6 5 4 2 5 1 3 5 1 1 6 3 1 1 7 3 1 8 4 0 6 5 1 7 4 6 2 5 5 0 4 6 8 7 0 7 9\n",
            " 4 9 1 6 3 2 3 9 2 9 4 6 5 9 7 2 7 1 5 8 0 9 6 4 5 3 9 9 0 0 9 1 0 4 8 9 1\n",
            " 2 9 9 5 9 6 4 0 8 3 3 0 2 3 0 1 3 8 1 3 0 1 2 3 9 9 0 8 5 9 4 1 3 9 3 1 2\n",
            " 3 3 9 5 2 7 6 3 4 8 7 5 7 7 0 8 5 0 1 0 9 9 8 7 6 3 7 0 1 4 0 2 9 9 4 2 5\n",
            " 8 8 5 8 6 6 9 4 3 1 7 3 6 2 3 5 0 8 7 4 3 6 8 3 3 5 3 4 0 0 7 8 0 1 4 7 6\n",
            " 5]\n"
          ],
          "name": "stdout"
        }
      ]
    }
  ]
}